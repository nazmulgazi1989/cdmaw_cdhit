{
  "nbformat": 4,
  "nbformat_minor": 0,
  "metadata": {
    "colab": {
      "name": "cdmaws_cdhit.ipynb",
      "provenance": [],
      "authorship_tag": "ABX9TyPHsL7n2HeCKpG2e00VKwNb",
      "include_colab_link": true
    },
    "kernelspec": {
      "name": "python3",
      "display_name": "Python 3"
    },
    "language_info": {
      "name": "python"
    }
  },
  "cells": [
    {
      "cell_type": "markdown",
      "metadata": {
        "id": "view-in-github",
        "colab_type": "text"
      },
      "source": [
        "<a href=\"https://colab.research.google.com/github/nazmulgazi1989/cdmaw_cdhit/blob/main/cdmaws_cdhit.ipynb\" target=\"_parent\"><img src=\"https://colab.research.google.com/assets/colab-badge.svg\" alt=\"Open In Colab\"/></a>"
      ]
    },
    {
      "cell_type": "code",
      "execution_count": 1,
      "metadata": {
        "colab": {
          "base_uri": "https://localhost:8080/"
        },
        "id": "Mi8Y7j8i8CGX",
        "outputId": "a67106a4-10e8-4706-b710-ecd98d7339a8"
      },
      "outputs": [
        {
          "output_type": "stream",
          "name": "stdout",
          "text": [
            "  Unnamed: 0  A11  A12  A13  A14  A15\n",
            "0        A11    1    2    3    4    5\n",
            "1        A21    6    7    8    9   10\n",
            "2        A31   11   12   13   14   15\n",
            "3        A41   16   17   18   19   20\n",
            "4        A51   21   22   23   24   25\n"
          ]
        }
      ],
      "source": [
        "import pandas as pd\n",
        "import math\n",
        "df = pd.read_csv ('/content/sample_data/test.csv')\n",
        "print(df)\n"
      ]
    },
    {
      "cell_type": "code",
      "source": [
        "for i, j in df.iterrows():\n",
        "  for m,n in j[1:].iteritems():\n",
        "    if n > 5:\n",
        "      print(\"index :\",i)\n",
        "      print(\"i\",df.iloc[i,0])\n",
        "      print(\"m\",m)\n",
        "      print(\"n\",n)\n",
        "     "
      ],
      "metadata": {
        "colab": {
          "base_uri": "https://localhost:8080/"
        },
        "id": "2O3UfuzOfYiV",
        "outputId": "6236db24-40f0-4bfe-8364-3ed630fc1f80"
      },
      "execution_count": 3,
      "outputs": [
        {
          "output_type": "stream",
          "name": "stdout",
          "text": [
            "index : 1\n",
            "i A21\n",
            "m A11\n",
            "n 6\n",
            "index : 1\n",
            "i A21\n",
            "m A12\n",
            "n 7\n",
            "index : 1\n",
            "i A21\n",
            "m A13\n",
            "n 8\n",
            "index : 1\n",
            "i A21\n",
            "m A14\n",
            "n 9\n",
            "index : 1\n",
            "i A21\n",
            "m A15\n",
            "n 10\n",
            "index : 2\n",
            "i A31\n",
            "m A11\n",
            "n 11\n",
            "index : 2\n",
            "i A31\n",
            "m A12\n",
            "n 12\n",
            "index : 2\n",
            "i A31\n",
            "m A13\n",
            "n 13\n",
            "index : 2\n",
            "i A31\n",
            "m A14\n",
            "n 14\n",
            "index : 2\n",
            "i A31\n",
            "m A15\n",
            "n 15\n",
            "index : 3\n",
            "i A41\n",
            "m A11\n",
            "n 16\n",
            "index : 3\n",
            "i A41\n",
            "m A12\n",
            "n 17\n",
            "index : 3\n",
            "i A41\n",
            "m A13\n",
            "n 18\n",
            "index : 3\n",
            "i A41\n",
            "m A14\n",
            "n 19\n",
            "index : 3\n",
            "i A41\n",
            "m A15\n",
            "n 20\n",
            "index : 4\n",
            "i A51\n",
            "m A11\n",
            "n 21\n",
            "index : 4\n",
            "i A51\n",
            "m A12\n",
            "n 22\n",
            "index : 4\n",
            "i A51\n",
            "m A13\n",
            "n 23\n",
            "index : 4\n",
            "i A51\n",
            "m A14\n",
            "n 24\n",
            "index : 4\n",
            "i A51\n",
            "m A15\n",
            "n 25\n"
          ]
        }
      ]
    },
    {
      "cell_type": "code",
      "source": [
        "data = []\n",
        "sourceIncludes = []\n",
        "for _,value1 in df.iterrows():\n",
        "  sourceIncludes.append(value1['country'])\n",
        "  for _,value2 in df.iterrows():\n",
        "   if value1['country'] !=  value2['country'] and value1['ranking'] > value2['ranking'] and value2['country'] not in sourceIncludes:\n",
        "     d= dict()\n",
        "     d['source'] = value1['ID'];\n",
        "     d['target'] = value2['ID']\n",
        "     data.append(d)\n",
        "print(str(data))\n"
      ],
      "metadata": {
        "id": "q5ZHa1ZLbExR"
      },
      "execution_count": null,
      "outputs": []
    },
    {
      "cell_type": "code",
      "source": [
        "for name, values in df.iteritems():\n",
        "  for name, values in df.iteritems():\n",
        "  \n",
        "    print('{name}: {value}'.format(name=name, value=values))"
      ],
      "metadata": {
        "colab": {
          "base_uri": "https://localhost:8080/"
        },
        "id": "Ksr1V1DCZiCn",
        "outputId": "30190943-f485-4399-8d7e-fff9bc9a7b3e"
      },
      "execution_count": null,
      "outputs": [
        {
          "output_type": "stream",
          "name": "stdout",
          "text": [
            "Unnamed: 0: 0    A11\n",
            "1    A21\n",
            "2    A31\n",
            "3    A41\n",
            "4    A51\n",
            "Name: Unnamed: 0, dtype: object\n",
            "A11: 0     1\n",
            "1     6\n",
            "2    11\n",
            "3    16\n",
            "4    21\n",
            "Name: A11, dtype: int64\n",
            "A12: 0     2\n",
            "1     7\n",
            "2    12\n",
            "3    17\n",
            "4    22\n",
            "Name: A12, dtype: int64\n",
            "A13: 0     3\n",
            "1     8\n",
            "2    13\n",
            "3    18\n",
            "4    23\n",
            "Name: A13, dtype: int64\n",
            "A14: 0     4\n",
            "1     9\n",
            "2    14\n",
            "3    19\n",
            "4    24\n",
            "Name: A14, dtype: int64\n",
            "A15: 0     5\n",
            "1    10\n",
            "2    15\n",
            "3    20\n",
            "4    25\n",
            "Name: A15, dtype: int64\n"
          ]
        }
      ]
    },
    {
      "cell_type": "code",
      "source": [
        "for column in df:\n",
        "    print(df[column])"
      ],
      "metadata": {
        "id": "myOmdNf3Z1wz",
        "outputId": "ff85c986-b998-4cf6-8181-3dbe3a3ac6d2",
        "colab": {
          "base_uri": "https://localhost:8080/"
        }
      },
      "execution_count": null,
      "outputs": [
        {
          "output_type": "stream",
          "name": "stdout",
          "text": [
            "0    A11\n",
            "1    A21\n",
            "2    A31\n",
            "3    A41\n",
            "4    A51\n",
            "Name: Unnamed: 0, dtype: object\n",
            "0     1\n",
            "1     6\n",
            "2    11\n",
            "3    16\n",
            "4    21\n",
            "Name: A11, dtype: int64\n",
            "0     2\n",
            "1     7\n",
            "2    12\n",
            "3    17\n",
            "4    22\n",
            "Name: A12, dtype: int64\n",
            "0     3\n",
            "1     8\n",
            "2    13\n",
            "3    18\n",
            "4    23\n",
            "Name: A13, dtype: int64\n",
            "0     4\n",
            "1     9\n",
            "2    14\n",
            "3    19\n",
            "4    24\n",
            "Name: A14, dtype: int64\n",
            "0     5\n",
            "1    10\n",
            "2    15\n",
            "3    20\n",
            "4    25\n",
            "Name: A15, dtype: int64\n"
          ]
        }
      ]
    }
  ]
}