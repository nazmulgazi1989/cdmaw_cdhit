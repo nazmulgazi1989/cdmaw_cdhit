{
  "nbformat": 4,
  "nbformat_minor": 0,
  "metadata": {
    "colab": {
      "name": "cdmaws_cdhit.ipynb",
      "provenance": [],
      "authorship_tag": "ABX9TyN6JwUf3nrXooEFStw0C1NR",
      "include_colab_link": true
    },
    "kernelspec": {
      "name": "python3",
      "display_name": "Python 3"
    },
    "language_info": {
      "name": "python"
    }
  },
  "cells": [
    {
      "cell_type": "markdown",
      "metadata": {
        "id": "view-in-github",
        "colab_type": "text"
      },
      "source": [
        "<a href=\"https://colab.research.google.com/github/nazmulgazi1989/cdmaw_cdhit/blob/main/cdmaws_cdhit.ipynb\" target=\"_parent\"><img src=\"https://colab.research.google.com/assets/colab-badge.svg\" alt=\"Open In Colab\"/></a>"
      ]
    },
    {
      "cell_type": "markdown",
      "source": [
        "This python file must be same directory of **cd_maws**. Otherwiswise this does not work"
      ],
      "metadata": {
        "id": "qQynRlEXzN4U"
      }
    },
    {
      "cell_type": "code",
      "execution_count": null,
      "metadata": {
        "id": "Mi8Y7j8i8CGX"
      },
      "outputs": [],
      "source": [
        "import pandas as pd\n",
        "import math\n",
        "import sys\n",
        "import os\n",
        "\n"
      ]
    },
    {
      "cell_type": "markdown",
      "source": [
        "This "
      ],
      "metadata": {
        "id": "NERGO3oozI_F"
      }
    },
    {
      "cell_type": "markdown",
      "source": [
        "I added two sample fasta file and the enviroment where **maw** and **cd_maws** installed. Otherwise this command does not work"
      ],
      "metadata": {
        "id": "CHI1wnQCzOcB"
      }
    },
    {
      "cell_type": "code",
      "source": [
        "cmd = 'maw/maw -a DNA -i Data/new/R0/r0.fasta -o Data/new/R0/r0_now.maw.fasta -k 2 -K 5'\n",
        "cmd1 = 'maw/maw -a DNA -i Data/new/R1/r1.fasta -o Data/new/R1/r1_now.maw.fasta -k 2 -K 5'\n",
        "\n",
        "cmd2= './main -i Data/new/R0/r0_now.maw.fasta -o Data/new/R1/r0_now.cdmaw.csv'\n",
        "cmd3= './main -i Data/new/R1/r1_now.maw.fasta -o Data/new/R1/r1_now.cdmaw.csv'\n",
        "\n",
        "\n",
        "\n",
        "os.system(cmd)\n",
        "\n",
        "os.system(cmd1)\n",
        "os.system(cmd2)\n",
        "os.system(cmd3)"
      ],
      "metadata": {
        "id": "NYh_mvJTzCff"
      },
      "execution_count": null,
      "outputs": []
    },
    {
      "cell_type": "code",
      "source": [
        "df = pd.read_csv ('/content/sample_data/r0.cdmaw.csv')\n",
        "# print(df)"
      ],
      "metadata": {
        "id": "O9vEhCotz4nU"
      },
      "execution_count": null,
      "outputs": []
    },
    {
      "cell_type": "code",
      "source": [
        "outputText = \"\"\n",
        "for i, j in df.iterrows():\n",
        "  for m,n in j[1:].iteritems():\n",
        "    if n > 0.6555:\n",
        "      outputText += str(m) + \" with \" + str(i) +  \" - score : \"+ str(n) + \"\\n\"\n",
        "    \n",
        "     "
      ],
      "metadata": {
        "id": "2O3UfuzOfYiV"
      },
      "execution_count": null,
      "outputs": []
    },
    {
      "cell_type": "code",
      "source": [
        "with open(\"Output.txt\", \"w\") as text_file:\n",
        "    text_file.write(\"%s\" % outputText)"
      ],
      "metadata": {
        "id": "j4MoYj6A_V9Z"
      },
      "execution_count": null,
      "outputs": []
    },
    {
      "cell_type": "code",
      "source": [
        "for column in df:\n",
        "    print(df[column])"
      ],
      "metadata": {
        "id": "myOmdNf3Z1wz",
        "outputId": "ff85c986-b998-4cf6-8181-3dbe3a3ac6d2",
        "colab": {
          "base_uri": "https://localhost:8080/"
        }
      },
      "execution_count": null,
      "outputs": [
        {
          "output_type": "stream",
          "name": "stdout",
          "text": [
            "0    A11\n",
            "1    A21\n",
            "2    A31\n",
            "3    A41\n",
            "4    A51\n",
            "Name: Unnamed: 0, dtype: object\n",
            "0     1\n",
            "1     6\n",
            "2    11\n",
            "3    16\n",
            "4    21\n",
            "Name: A11, dtype: int64\n",
            "0     2\n",
            "1     7\n",
            "2    12\n",
            "3    17\n",
            "4    22\n",
            "Name: A12, dtype: int64\n",
            "0     3\n",
            "1     8\n",
            "2    13\n",
            "3    18\n",
            "4    23\n",
            "Name: A13, dtype: int64\n",
            "0     4\n",
            "1     9\n",
            "2    14\n",
            "3    19\n",
            "4    24\n",
            "Name: A14, dtype: int64\n",
            "0     5\n",
            "1    10\n",
            "2    15\n",
            "3    20\n",
            "4    25\n",
            "Name: A15, dtype: int64\n"
          ]
        }
      ]
    }
  ]
}